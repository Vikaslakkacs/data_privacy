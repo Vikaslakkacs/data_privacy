{
 "cells": [
  {
   "cell_type": "code",
   "execution_count": 3,
   "metadata": {},
   "outputs": [],
   "source": [
    "from langchain_core.documents import Document\n",
    "from pprint import pprint"
   ]
  },
  {
   "cell_type": "code",
   "execution_count": 4,
   "metadata": {},
   "outputs": [],
   "source": [
    "document_content = \"\"\"Date: October 19, 2021\n",
    " Witness: John Doe\n",
    " Subject: Testimony Regarding the Loss of Wallet\n",
    "\n",
    " Testimony Content:\n",
    "\n",
    " Hello Officer,\n",
    "\n",
    " My name is John Doe and on October 19, 2021, my wallet was stolen in the vicinity of Kilmarnock during a bike trip. This wallet contains some very important things to me.\n",
    "\n",
    " Firstly, the wallet contains my credit card with number 4111 1111 1111 1111, which is registered under my name and linked to my bank account, PL61109010140000071219812874.\n",
    "\n",
    " Additionally, the wallet had a driver's license - DL No: 999000680 issued to my name. It also houses my Social Security Number, 602-76-4532.\n",
    "\n",
    " What's more, I had my polish identity card there, with the number ABC123456.\n",
    "\n",
    " I would like this data to be secured and protected in all possible ways. I believe It was stolen at 9:30 AM.\n",
    "\n",
    " In case any information arises regarding my wallet, please reach out to me on my phone number, 999-888-7777, or through my personal email, johndoe@example.com.\n",
    "\n",
    " Please consider this information to be highly confidential and respect my privacy.\n",
    "\n",
    " The bank has been informed about the stolen credit card and necessary actions have been taken from their end. They will be reachable at their official email, support@bankname.com.\n",
    " My representative there is Victoria Cherry (her business phone: 987-654-3210).\n",
    "\n",
    " Thank you for your assistance,\n",
    "\n",
    " John Doe\"\"\"\n"
   ]
  },
  {
   "cell_type": "markdown",
   "metadata": {},
   "source": [
    "Create Document object"
   ]
  },
  {
   "cell_type": "code",
   "execution_count": 5,
   "metadata": {},
   "outputs": [],
   "source": [
    "documents= [Document(page_content=document_content)]"
   ]
  },
  {
   "cell_type": "code",
   "execution_count": 6,
   "metadata": {},
   "outputs": [
    {
     "data": {
      "text/plain": [
       "[Document(page_content=\"Date: October 19, 2021\\n Witness: John Doe\\n Subject: Testimony Regarding the Loss of Wallet\\n\\n Testimony Content:\\n\\n Hello Officer,\\n\\n My name is John Doe and on October 19, 2021, my wallet was stolen in the vicinity of Kilmarnock during a bike trip. This wallet contains some very important things to me.\\n\\n Firstly, the wallet contains my credit card with number 4111 1111 1111 1111, which is registered under my name and linked to my bank account, PL61109010140000071219812874.\\n\\n Additionally, the wallet had a driver's license - DL No: 999000680 issued to my name. It also houses my Social Security Number, 602-76-4532.\\n\\n What's more, I had my polish identity card there, with the number ABC123456.\\n\\n I would like this data to be secured and protected in all possible ways. I believe It was stolen at 9:30 AM.\\n\\n In case any information arises regarding my wallet, please reach out to me on my phone number, 999-888-7777, or through my personal email, johndoe@example.com.\\n\\n Please consider this information to be highly confidential and respect my privacy.\\n\\n The bank has been informed about the stolen credit card and necessary actions have been taken from their end. They will be reachable at their official email, support@bankname.com.\\n My representative there is Victoria Cherry (her business phone: 987-654-3210).\\n\\n Thank you for your assistance,\\n\\n John Doe\")]"
      ]
     },
     "execution_count": 6,
     "metadata": {},
     "output_type": "execute_result"
    }
   ],
   "source": [
    "documents"
   ]
  },
  {
   "cell_type": "markdown",
   "metadata": {},
   "source": [
    "* Before moving to Qa we will change the data first and then carry on with next steps\n",
    "* The above document has many PII values and some of them occur multiple times"
   ]
  },
  {
   "cell_type": "code",
   "execution_count": 7,
   "metadata": {},
   "outputs": [],
   "source": [
    "## Function for coloring PII markers\n",
    "### This is only for notebook purpose\n",
    "import re\n",
    "def print_colored_pii(string):\n",
    "    colored_string= re.sub(\n",
    "        r\"(<[^>]*>)\", lambda m: \"\\033[31m\" + m.group(1) + \"\\033[0m\", string\n",
    "    )\n",
    "    print(colored_string)"
   ]
  },
  {
   "cell_type": "markdown",
   "metadata": {},
   "source": [
    "### Lets anonymize data"
   ]
  },
  {
   "cell_type": "code",
   "execution_count": 8,
   "metadata": {},
   "outputs": [],
   "source": [
    "from langchain_experimental.data_anonymizer import PresidioReversibleAnonymizer\n"
   ]
  },
  {
   "cell_type": "code",
   "execution_count": 9,
   "metadata": {},
   "outputs": [
    {
     "name": "stdout",
     "output_type": "stream",
     "text": [
      "Date: \u001b[31m<DATE_TIME>\u001b[0m\n",
      " Witness: \u001b[31m<PERSON>\u001b[0m\n",
      " Subject: Testimony Regarding the Loss of Wallet\n",
      "\n",
      " Testimony Content:\n",
      "\n",
      " Hello Officer,\n",
      "\n",
      " My name is \u001b[31m<PERSON>\u001b[0m and on \u001b[31m<DATE_TIME>\u001b[0m, my wallet was stolen in the vicinity of \u001b[31m<LOCATION>\u001b[0m during a bike trip. This wallet contains some very important things to me.\n",
      "\n",
      " Firstly, the wallet contains my credit card with number \u001b[31m<CREDIT_CARD>\u001b[0m, which is registered under my name and linked to my bank account, \u001b[31m<IBAN_CODE>\u001b[0m.\n",
      "\n",
      " Additionally, the wallet had a driver's license - DL No: \u001b[31m<US_DRIVER_LICENSE>\u001b[0m issued to my name. It also houses my Social Security Number, \u001b[31m<US_SSN>\u001b[0m.\n",
      "\n",
      " What's more, I had my polish identity card there, with the number ABC123456.\n",
      "\n",
      " I would like this data to be secured and protected in all possible ways. I believe It was stolen at \u001b[31m<DATE_TIME_2>\u001b[0m.\n",
      "\n",
      " In case any information arises regarding my wallet, please reach out to me on my phone number, \u001b[31m<PHONE_NUMBER>\u001b[0m, or through my personal email, \u001b[31m<EMAIL_ADDRESS>\u001b[0m.\n",
      "\n",
      " Please consider this information to be highly confidential and respect my privacy.\n",
      "\n",
      " The bank has been informed about the stolen credit card and necessary actions have been taken from their end. They will be reachable at their official email, \u001b[31m<EMAIL_ADDRESS_2>\u001b[0m.\n",
      " My representative there is \u001b[31m<PERSON_2>\u001b[0m (her business phone: \u001b[31m<UK_NHS>\u001b[0m).\n",
      "\n",
      " Thank you for your assistance,\n",
      "\n",
      " \u001b[31m<PERSON>\u001b[0m\n"
     ]
    }
   ],
   "source": [
    "anonymizer= PresidioReversibleAnonymizer(\n",
    "    add_default_faker_operators=False,\n",
    ")\n",
    "print_colored_pii(anonymizer.anonymize(document_content))"
   ]
  },
  {
   "cell_type": "markdown",
   "metadata": {},
   "source": [
    "### Look at values vs mapping"
   ]
  },
  {
   "cell_type": "code",
   "execution_count": 10,
   "metadata": {},
   "outputs": [
    {
     "name": "stdout",
     "output_type": "stream",
     "text": [
      "{'CREDIT_CARD': {'<CREDIT_CARD>': '4111 1111 1111 1111'},\n",
      " 'DATE_TIME': {'<DATE_TIME>': 'October 19, 2021', '<DATE_TIME_2>': '9:30 AM'},\n",
      " 'EMAIL_ADDRESS': {'<EMAIL_ADDRESS>': 'johndoe@example.com',\n",
      "                   '<EMAIL_ADDRESS_2>': 'support@bankname.com'},\n",
      " 'IBAN_CODE': {'<IBAN_CODE>': 'PL61109010140000071219812874'},\n",
      " 'LOCATION': {'<LOCATION>': 'Kilmarnock'},\n",
      " 'PERSON': {'<PERSON>': 'John Doe', '<PERSON_2>': 'Victoria Cherry'},\n",
      " 'PHONE_NUMBER': {'<PHONE_NUMBER>': '999-888-7777'},\n",
      " 'UK_NHS': {'<UK_NHS>': '987-654-3210'},\n",
      " 'US_DRIVER_LICENSE': {'<US_DRIVER_LICENSE>': '999000680'},\n",
      " 'US_SSN': {'<US_SSN>': '602-76-4532'}}\n"
     ]
    }
   ],
   "source": [
    "import pprint\n",
    "pprint.pprint(anonymizer.deanonymizer_mapping)"
   ]
  },
  {
   "cell_type": "markdown",
   "metadata": {},
   "source": [
    "The above mapping has same tag for date as well as time.\n",
    "1. We can add different tags for date and for time as well.\n",
    "2. The id number which is said as Polish Id seems to be un-annonymized. Lets add that as well into configuration.\n",
    "\n",
    "- Solution: We will add new recognizers to anonymizer."
   ]
  },
  {
   "cell_type": "markdown",
   "metadata": {},
   "source": [
    "### Adding new recognizers"
   ]
  },
  {
   "cell_type": "code",
   "execution_count": 11,
   "metadata": {},
   "outputs": [],
   "source": [
    "from presidio_analyzer import Pattern, PatternRecognizer\n",
    "\n",
    "## Define pattern for Polish id\n",
    "polish_id_pattern = Pattern(\n",
    "    name= \"polish_id_pattern\",\n",
    "    regex= \"[A-Z]{3}\\d{6}\",\n",
    "    score=1    \n",
    ")\n",
    "##Defining pattern for time \n",
    "time_pattern= Pattern(\n",
    "    name=\"time_pattern\",\n",
    "    regex=\"(1[0-2]|0?[1-9]):[0-5][0-9] (AM/PM)\",\n",
    "    score=1\n",
    ")\n",
    "\n",
    "##Definig recognizer with one or more patterns\n",
    "polish_id_recognizer= PatternRecognizer(\n",
    "    supported_entity=\"POLISH_ID\",\n",
    "    patterns= [polish_id_pattern]\n",
    ")\n",
    "time_recognizer= PatternRecognizer(supported_entity=\"TIME\", patterns=[time_pattern])"
   ]
  },
  {
   "cell_type": "code",
   "execution_count": null,
   "metadata": {},
   "outputs": [],
   "source": []
  },
  {
   "cell_type": "markdown",
   "metadata": {},
   "source": [
    "### Adding recognizers to anonymizers"
   ]
  },
  {
   "cell_type": "code",
   "execution_count": 12,
   "metadata": {},
   "outputs": [],
   "source": [
    "anonymizer.add_recognizer(polish_id_recognizer)\n",
    "anonymizer.add_recognizer(time_recognizer)"
   ]
  },
  {
   "cell_type": "markdown",
   "metadata": {},
   "source": [
    "### Now Before applying anonymization concept to the text. It is important to remove recognizer that detects DATAE_TIME for time as it has already ben defined. Else we can reset the entire mapping"
   ]
  },
  {
   "cell_type": "code",
   "execution_count": 13,
   "metadata": {},
   "outputs": [],
   "source": [
    "anonymizer.reset_deanonymizer_mapping()"
   ]
  },
  {
   "cell_type": "markdown",
   "metadata": {},
   "source": [
    "##### Anonymize the text and check the results"
   ]
  },
  {
   "cell_type": "code",
   "execution_count": 14,
   "metadata": {},
   "outputs": [
    {
     "name": "stdout",
     "output_type": "stream",
     "text": [
      "Date: \u001b[31m<DATE_TIME>\u001b[0m\n",
      " Witness: \u001b[31m<PERSON>\u001b[0m\n",
      " Subject: Testimony Regarding the Loss of Wallet\n",
      "\n",
      " Testimony Content:\n",
      "\n",
      " Hello Officer,\n",
      "\n",
      " My name is \u001b[31m<PERSON>\u001b[0m and on \u001b[31m<DATE_TIME>\u001b[0m, my wallet was stolen in the vicinity of \u001b[31m<LOCATION>\u001b[0m during a bike trip. This wallet contains some very important things to me.\n",
      "\n",
      " Firstly, the wallet contains my credit card with number \u001b[31m<CREDIT_CARD>\u001b[0m, which is registered under my name and linked to my bank account, \u001b[31m<IBAN_CODE>\u001b[0m.\n",
      "\n",
      " Additionally, the wallet had a driver's license - DL No: \u001b[31m<US_DRIVER_LICENSE>\u001b[0m issued to my name. It also houses my Social Security Number, \u001b[31m<US_SSN>\u001b[0m.\n",
      "\n",
      " What's more, I had my polish identity card there, with the number \u001b[31m<POLISH_ID>\u001b[0m.\n",
      "\n",
      " I would like this data to be secured and protected in all possible ways. I believe It was stolen at \u001b[31m<DATE_TIME_2>\u001b[0m.\n",
      "\n",
      " In case any information arises regarding my wallet, please reach out to me on my phone number, \u001b[31m<PHONE_NUMBER>\u001b[0m, or through my personal email, \u001b[31m<EMAIL_ADDRESS>\u001b[0m.\n",
      "\n",
      " Please consider this information to be highly confidential and respect my privacy.\n",
      "\n",
      " The bank has been informed about the stolen credit card and necessary actions have been taken from their end. They will be reachable at their official email, \u001b[31m<EMAIL_ADDRESS_2>\u001b[0m.\n",
      " My representative there is \u001b[31m<PERSON_2>\u001b[0m (her business phone: \u001b[31m<UK_NHS>\u001b[0m).\n",
      "\n",
      " Thank you for your assistance,\n",
      "\n",
      " \u001b[31m<PERSON>\u001b[0m\n"
     ]
    }
   ],
   "source": [
    "print_colored_pii(anonymizer.anonymize(document_content))"
   ]
  },
  {
   "cell_type": "code",
   "execution_count": 15,
   "metadata": {},
   "outputs": [
    {
     "name": "stdout",
     "output_type": "stream",
     "text": [
      "{'CREDIT_CARD': {'<CREDIT_CARD>': '4111 1111 1111 1111'},\n",
      " 'DATE_TIME': {'<DATE_TIME>': 'October 19, 2021', '<DATE_TIME_2>': '9:30 AM'},\n",
      " 'EMAIL_ADDRESS': {'<EMAIL_ADDRESS>': 'johndoe@example.com',\n",
      "                   '<EMAIL_ADDRESS_2>': 'support@bankname.com'},\n",
      " 'IBAN_CODE': {'<IBAN_CODE>': 'PL61109010140000071219812874'},\n",
      " 'LOCATION': {'<LOCATION>': 'Kilmarnock'},\n",
      " 'PERSON': {'<PERSON>': 'John Doe', '<PERSON_2>': 'Victoria Cherry'},\n",
      " 'PHONE_NUMBER': {'<PHONE_NUMBER>': '999-888-7777'},\n",
      " 'POLISH_ID': {'<POLISH_ID>': 'ABC123456'},\n",
      " 'UK_NHS': {'<UK_NHS>': '987-654-3210'},\n",
      " 'US_DRIVER_LICENSE': {'<US_DRIVER_LICENSE>': '999000680'},\n",
      " 'US_SSN': {'<US_SSN>': '602-76-4532'}}\n"
     ]
    }
   ],
   "source": [
    "import pprint\n",
    "pprint.pprint(anonymizer.deanonymizer_mapping)"
   ]
  },
  {
   "cell_type": "markdown",
   "metadata": {},
   "source": [
    "### Now we have completely anonymized the PII values correctly."
   ]
  },
  {
   "cell_type": "code",
   "execution_count": null,
   "metadata": {},
   "outputs": [],
   "source": []
  },
  {
   "cell_type": "markdown",
   "metadata": {},
   "source": [
    "- Instead of Anonymization lets use synthetic data to mask PII\n",
    "- This can be done by adding one more parameter `add_default_faker_operators=True`(by default it is True)"
   ]
  },
  {
   "cell_type": "code",
   "execution_count": 16,
   "metadata": {},
   "outputs": [],
   "source": [
    "anonymizer= PresidioReversibleAnonymizer(\n",
    "    add_default_faker_operators=True,\n",
    "    \n",
    "    )\n",
    "\n",
    "anonymizer.add_recognizer(polish_id_recognizer)\n",
    "anonymizer.add_recognizer(time_recognizer)"
   ]
  },
  {
   "cell_type": "code",
   "execution_count": 17,
   "metadata": {},
   "outputs": [
    {
     "name": "stdout",
     "output_type": "stream",
     "text": [
      "Date: 2005-03-22\n",
      " Witness: Megan Wilkerson\n",
      " Subject: Testimony Regarding the Loss of Wallet\n",
      "\n",
      " Testimony Content:\n",
      "\n",
      " Hello Officer,\n",
      "\n",
      " My name is Megan Wilkerson and on 2005-03-22, my wallet was stolen in the vicinity of Port Stephanie during a bike trip. This wallet contains some very important things to me.\n",
      "\n",
      " Firstly, the wallet contains my credit card with number 6011194189394765, which is registered under my name and linked to my bank account, GB60MOZR67120048847445.\n",
      "\n",
      " Additionally, the wallet had a driver's license - DL No: 130315013 issued to my name. It also houses my Social Security Number, 130-24-4147.\n",
      "\n",
      " What's more, I had my polish identity card there, with the number \u001b[31m<POLISH_ID>\u001b[0m.\n",
      "\n",
      " I would like this data to be secured and protected in all possible ways. I believe It was stolen at 1988-03-14.\n",
      "\n",
      " In case any information arises regarding my wallet, please reach out to me on my phone number, 218.626.1734x33958, or through my personal email, harveydoris@example.net.\n",
      "\n",
      " Please consider this information to be highly confidential and respect my privacy.\n",
      "\n",
      " The bank has been informed about the stolen credit card and necessary actions have been taken from their end. They will be reachable at their official email, hayneskatie@example.com.\n",
      " My representative there is Amber Smith (her business phone: 8454384630).\n",
      "\n",
      " Thank you for your assistance,\n",
      "\n",
      " Megan Wilkerson\n"
     ]
    }
   ],
   "source": [
    "print_colored_pii(anonymizer.anonymize(document_content))"
   ]
  },
  {
   "cell_type": "markdown",
   "metadata": {},
   "source": [
    "* As we can see every PII value has been replaecd with synthetic data except custom recognizers.\n",
    "* We will create custom operators that deal with respective data such has polish ids\n",
    "* Using faker module we will fake the data/recognizer"
   ]
  },
  {
   "cell_type": "code",
   "execution_count": 18,
   "metadata": {},
   "outputs": [],
   "source": [
    "from faker import Faker"
   ]
  },
  {
   "cell_type": "code",
   "execution_count": 19,
   "metadata": {},
   "outputs": [
    {
     "data": {
      "text/plain": [
       "'OOF158016'"
      ]
     },
     "execution_count": 19,
     "metadata": {},
     "output_type": "execute_result"
    }
   ],
   "source": [
    "## Bothify is combination of numerify and letterify which will add both letter and numericals for the id\n",
    "fake= Faker()\n",
    "def fake_polish_id(_=None):\n",
    "    return fake.bothify(text=\"???######\").upper()\n",
    "\n",
    "fake_polish_id()"
   ]
  },
  {
   "cell_type": "code",
   "execution_count": 20,
   "metadata": {},
   "outputs": [
    {
     "data": {
      "text/plain": [
       "'06:10 PM'"
      ]
     },
     "execution_count": 20,
     "metadata": {},
     "output_type": "execute_result"
    }
   ],
   "source": [
    "### Lets configure fake time as well\n",
    "def fake_time(_=None):\n",
    "    return fake.time(pattern=\"%I:%M %p\")\n",
    "\n",
    "fake_time()\n"
   ]
  },
  {
   "cell_type": "markdown",
   "metadata": {},
   "source": [
    "#### Lets add newly created operetors to anonymizer:"
   ]
  },
  {
   "cell_type": "code",
   "execution_count": 21,
   "metadata": {},
   "outputs": [],
   "source": [
    "from presidio_anonymizer.entities import OperatorConfig"
   ]
  },
  {
   "cell_type": "code",
   "execution_count": 22,
   "metadata": {},
   "outputs": [],
   "source": [
    "new_operators= {\n",
    "    \"POLISH_ID\":OperatorConfig(\"custom\", {\"lambda\": fake_polish_id}),\n",
    "    \"TIME\":OperatorConfig(\"custom\", {\"lambda\": fake_time})\n",
    "}\n",
    "anonymizer.add_operators(new_operators)"
   ]
  },
  {
   "cell_type": "code",
   "execution_count": 23,
   "metadata": {},
   "outputs": [
    {
     "name": "stdout",
     "output_type": "stream",
     "text": [
      "Date: 1980-05-23\n",
      " Witness: Gregory Byrd\n",
      " Subject: Testimony Regarding the Loss of Wallet\n",
      "\n",
      " Testimony Content:\n",
      "\n",
      " Hello Officer,\n",
      "\n",
      " My name is Gregory Byrd and on 1980-05-23, my wallet was stolen in the vicinity of Danielleton during a bike trip. This wallet contains some very important things to me.\n",
      "\n",
      " Firstly, the wallet contains my credit card with number 675921260955, which is registered under my name and linked to my bank account, GB49OGGM38267221031774.\n",
      "\n",
      " Additionally, the wallet had a driver's license - DL No: 891897191 issued to my name. It also houses my Social Security Number, 486-04-8314.\n",
      "\n",
      " What's more, I had my polish identity card there, with the number UGO723854.\n",
      "\n",
      " I would like this data to be secured and protected in all possible ways. I believe It was stolen at 1991-05-29.\n",
      "\n",
      " In case any information arises regarding my wallet, please reach out to me on my phone number, (997)256-4728x864, or through my personal email, karenmurray@example.net.\n",
      "\n",
      " Please consider this information to be highly confidential and respect my privacy.\n",
      "\n",
      " The bank has been informed about the stolen credit card and necessary actions have been taken from their end. They will be reachable at their official email, floresstephanie@example.org.\n",
      " My representative there is Kimberly Mcneil (her business phone: 5920443118).\n",
      "\n",
      " Thank you for your assistance,\n",
      "\n",
      " Gregory Byrd\n"
     ]
    }
   ],
   "source": [
    "anonymizer.reset_deanonymizer_mapping()\n",
    "print_colored_pii(anonymizer.anonymize(document_content))"
   ]
  },
  {
   "cell_type": "code",
   "execution_count": 24,
   "metadata": {},
   "outputs": [
    {
     "name": "stdout",
     "output_type": "stream",
     "text": [
      "{'CREDIT_CARD': {'675921260955': '4111 1111 1111 1111'},\n",
      " 'DATE_TIME': {'1980-05-23': 'October 19, 2021', '1991-05-29': '9:30 AM'},\n",
      " 'EMAIL_ADDRESS': {'floresstephanie@example.org': 'support@bankname.com',\n",
      "                   'karenmurray@example.net': 'johndoe@example.com'},\n",
      " 'IBAN_CODE': {'GB49OGGM38267221031774': 'PL61109010140000071219812874'},\n",
      " 'LOCATION': {'Danielleton': 'Kilmarnock'},\n",
      " 'PERSON': {'Gregory Byrd': 'John Doe', 'Kimberly Mcneil': 'Victoria Cherry'},\n",
      " 'PHONE_NUMBER': {'(997)256-4728x864': '999-888-7777'},\n",
      " 'POLISH_ID': {'UGO723854': 'ABC123456'},\n",
      " 'UK_NHS': {'5920443118': '987-654-3210'},\n",
      " 'US_DRIVER_LICENSE': {'891897191': '999000680'},\n",
      " 'US_SSN': {'486-04-8314': '602-76-4532'}}\n"
     ]
    }
   ],
   "source": [
    "pprint.pprint(anonymizer.deanonymizer_mapping)"
   ]
  },
  {
   "cell_type": "markdown",
   "metadata": {},
   "source": [
    "### Now all the values has been replaced with synthetic data and we have mapping as well to deanonymize."
   ]
  },
  {
   "cell_type": "markdown",
   "metadata": {},
   "source": [
    "### Q and A system with Langchain and Anonymization\n",
    "* We use `PresidioReversibleAnonymizer` and Langchain Expression Language (LCEL)"
   ]
  },
  {
   "cell_type": "code",
   "execution_count": 25,
   "metadata": {},
   "outputs": [],
   "source": [
    "### initialize anonymizer\n",
    "anonymizer= PresidioReversibleAnonymizer(\n",
    "    add_default_faker_operators= True\n",
    "    \n",
    ")\n",
    "\n",
    "anonymizer.add_recognizer(polish_id_recognizer)\n",
    "anonymizer.add_recognizer(time_recognizer)"
   ]
  },
  {
   "cell_type": "markdown",
   "metadata": {},
   "source": [
    "### INitiate LLm \n",
    "* Using FAISS as Vector Db "
   ]
  },
  {
   "cell_type": "code",
   "execution_count": 26,
   "metadata": {},
   "outputs": [],
   "source": [
    "from langchain_community.vectorstores import FAISS\n",
    "from langchain_openai import OpenAIEmbeddings\n",
    "from langchain_text_splitters import RecursiveCharacterTextSplitter\n",
    "from langchain_core.documents import Document"
   ]
  },
  {
   "cell_type": "markdown",
   "metadata": {},
   "source": [
    "### Steps to use:\n",
    "- Load the data\n",
    "- Anonymize data before indexing\n",
    "\n"
   ]
  },
  {
   "cell_type": "code",
   "execution_count": 27,
   "metadata": {},
   "outputs": [],
   "source": [
    "import os\n",
    "from dotenv import load_dotenv\n",
    "load_dotenv()\n",
    "OPENAI_API_KEY= os.getenv('OPENAI_API_KEY')"
   ]
  },
  {
   "cell_type": "markdown",
   "metadata": {},
   "source": [
    "### Lets load document from file"
   ]
  },
  {
   "cell_type": "code",
   "execution_count": 28,
   "metadata": {},
   "outputs": [],
   "source": [
    "with open(\"/Users/vikaslakka/Desktop/FSDS/GenAI/poc/data_privacy/data_privacy/cases/theft_case.txt\", 'r') as theft:\n",
    "    theft_case= theft.read()\n",
    "documents= [Document(page_content= theft_case)]"
   ]
  },
  {
   "cell_type": "code",
   "execution_count": 29,
   "metadata": {},
   "outputs": [],
   "source": [
    "## Load data\n",
    "## Anonymize data before indexing\n",
    "for doc in documents:\n",
    "    doc.page_content= anonymizer.anonymize(doc.page_content)\n",
    "\n",
    "# Split the documents into chunks\n",
    "text_splitter= RecursiveCharacterTextSplitter(chunk_size=1000, chunk_overlap=100)\n",
    "chunks= text_splitter.split_documents(documents)\n",
    "\n",
    "## Indexing the chunks (We use this using OPENAI because the data is already anonymized)\n",
    "embeddings= OpenAIEmbeddings(openai_api_key= OPENAI_API_KEY)\n",
    "docsearch= FAISS.from_documents(chunks, embeddings)\n",
    "retriever= docsearch.as_retriever()"
   ]
  },
  {
   "cell_type": "code",
   "execution_count": 30,
   "metadata": {},
   "outputs": [],
   "source": [
    "from operator import itemgetter\n",
    "from langchain_core.output_parsers import StrOutputParser\n",
    "from langchain_core.prompts import ChatPromptTemplate\n",
    "from langchain_core.runnables import (\n",
    "    RunnableLambda,\n",
    "    RunnableParallel,\n",
    "    RunnablePassthrough,\n",
    ")\n",
    "from langchain_openai import ChatOpenAI"
   ]
  },
  {
   "cell_type": "code",
   "execution_count": 31,
   "metadata": {},
   "outputs": [],
   "source": [
    "# Create anonymier chain\n",
    "template= \"\"\"\" Answer the question based only on the following context:\n",
    "{context}\n",
    "\n",
    "Question: {anonymized_question}\n",
    "\"\"\"\n",
    "\n",
    "prompt = ChatPromptTemplate.from_template(template=template)\n",
    "model= ChatOpenAI(temperature=0.3, model_name='gpt-3.5-turbo', openai_api_key= OPENAI_API_KEY)"
   ]
  },
  {
   "cell_type": "markdown",
   "metadata": {},
   "source": [
    "* RunnableParallel: It will let us run multiple prompts at sametime. eg: Telling joke and writing poem, you can pass two prompts in runnnableparallel and it will provide.\n",
    "* RunnablePassthrough: This says that the value will be picked from invoke. (what ever the text we pass in invoke it will go to this.)"
   ]
  },
  {
   "cell_type": "code",
   "execution_count": 69,
   "metadata": {},
   "outputs": [],
   "source": [
    "\n",
    "\n",
    "###Define Runnableparallel\n",
    "_inputs= RunnableParallel(\n",
    "    question= RunnablePassthrough(),\n",
    "    ### Important to add question anonymization\n",
    "    anonymized_question= RunnableLambda(anonymizer.anonymize),\n",
    "    )\n",
    "\n",
    "anonymize_chain= (\n",
    "    _inputs\n",
    "    | {\"context\":itemgetter(\"anonymized_question\")|retriever,\n",
    "       \"anonymized_question\": itemgetter(\"anonymized_question\"),\n",
    "       }\n",
    "    |prompt\n",
    "    |model\n",
    "    |StrOutputParser()\n",
    ")\n",
    "\n"
   ]
  },
  {
   "cell_type": "code",
   "execution_count": 35,
   "metadata": {},
   "outputs": [
    {
     "name": "stdout",
     "output_type": "stream",
     "text": [
      "('- Credit card with number 341027099900434\\n'\n",
      " \"- Driver's license with DL No: 367288575\\n\"\n",
      " '- Social Security Number: 625-47-9708\\n'\n",
      " '- Polish identity card with number <POLISH_ID>')\n"
     ]
    }
   ],
   "source": [
    "pprint.pprint(anonymize_chain.invoke(\n",
    "    \"What was there in wallet? can you provide as bullet points?\"\n",
    "))"
   ]
  },
  {
   "cell_type": "code",
   "execution_count": 36,
   "metadata": {},
   "outputs": [
    {
     "name": "stdout",
     "output_type": "stream",
     "text": [
      "('- Credit card with number 4111 1111 1111 1111\\n'\n",
      " \"- Driver's license with number 999000680\\n\"\n",
      " '- Social Security Number: 602-76-4532\\n'\n",
      " '- Polish identity card with number ABC123456')\n"
     ]
    }
   ],
   "source": [
    "### Add De-anonymization to the step\n",
    "chain_with_deanonymization= anonymize_chain|RunnableLambda(anonymizer.deanonymize)\n",
    "\n",
    "pprint.pprint(chain_with_deanonymization.invoke(\n",
    "    \"What was there in wallet? can you provide as bullet points?\"\n",
    "))"
   ]
  },
  {
   "cell_type": "code",
   "execution_count": 37,
   "metadata": {},
   "outputs": [],
   "source": [
    "while True:\n",
    "    ques= input(\"ask about the incident\")\n",
    "    if ques=='exit':\n",
    "        break\n",
    "    else:\n",
    "        pprint.pprint(chain_with_deanonymization.invoke(ques))"
   ]
  },
  {
   "cell_type": "markdown",
   "metadata": {},
   "source": [
    "### Lets include guardrails as well into the picture"
   ]
  },
  {
   "cell_type": "code",
   "execution_count": 38,
   "metadata": {},
   "outputs": [],
   "source": [
    "from nemoguardrails import RailsConfig, LLMRails"
   ]
  },
  {
   "cell_type": "code",
   "execution_count": 130,
   "metadata": {},
   "outputs": [],
   "source": [
    "config= RailsConfig.from_path(\"/Users/vikaslakka/Desktop/FSDS/GenAI/poc/data_privacy/data_privacy/experiment/config\")\n",
    "rails= LLMRails(config= config)"
   ]
  },
  {
   "cell_type": "code",
   "execution_count": 153,
   "metadata": {},
   "outputs": [],
   "source": [
    "# Create anonymier chain\n",
    "template= \"\"\"\" Answer the question based only on the following context answer any type of questions which is out of context as well:\n",
    "{context}\n",
    "\n",
    "Question: {anonymized_question}\n",
    "\"\"\"\n",
    "\n",
    "prompt= PromptTemplate.from_template(template=template)"
   ]
  },
  {
   "cell_type": "code",
   "execution_count": 56,
   "metadata": {},
   "outputs": [
    {
     "data": {
      "text/plain": [
       "PromptTemplate(input_variables=['anonymized_question', 'context'], template='\" Answer the question based only on the following context:\\n{context}\\n\\nQuestion: {anonymized_question}\\n')"
      ]
     },
     "execution_count": 56,
     "metadata": {},
     "output_type": "execute_result"
    }
   ],
   "source": [
    "prompt"
   ]
  },
  {
   "cell_type": "markdown",
   "metadata": {},
   "source": [
    "#### Creating _input variables\n",
    "* Taking the question from RunnablePassthrough()\n",
    "* anonymizing the question using RunnableLambda()"
   ]
  },
  {
   "cell_type": "code",
   "execution_count": 145,
   "metadata": {},
   "outputs": [],
   "source": [
    "_llm_inputs= RunnableParallel(\n",
    "    question= RunnablePassthrough(),\n",
    "    anonymized_question= RunnableLambda(anonymizer.anonymize)\n",
    ")"
   ]
  },
  {
   "cell_type": "markdown",
   "metadata": {},
   "source": [
    "### Getting the Context\n",
    "* Get the context and question from the input"
   ]
  },
  {
   "cell_type": "code",
   "execution_count": 154,
   "metadata": {},
   "outputs": [],
   "source": [
    "retrieval_chain= (\n",
    "    _llm_inputs\n",
    "    | {\"context\":itemgetter(\"anonymized_question\")|retriever,\n",
    "                  \"anonymized_question\": itemgetter(\"anonymized_question\")\n",
    "                  }\n",
    "    |prompt\n",
    "    |rails.llm\n",
    "    |StrOutputParser()\n",
    ")"
   ]
  },
  {
   "cell_type": "markdown",
   "metadata": {},
   "source": [
    "##### Testing retrieval chain"
   ]
  },
  {
   "cell_type": "code",
   "execution_count": 134,
   "metadata": {},
   "outputs": [
    {
     "data": {
      "text/plain": [
       "\"John Nolan is providing testimony regarding the loss of his wallet, which was stolen during a bike trip in New Kristinachester on 2010-12-12. The wallet contained his credit card, driver's license, Social Security Number, and Polish identity card. He is requesting for the data to be secured and protected. The bank has been informed about the stolen credit card and necessary actions have been taken. John Nolan's representative at the bank is Ronald Johnston.\""
      ]
     },
     "execution_count": 134,
     "metadata": {},
     "output_type": "execute_result"
    }
   ],
   "source": [
    "retrieval_chain.invoke(\"What is the summary of the scene?\")"
   ]
  },
  {
   "cell_type": "code",
   "execution_count": 147,
   "metadata": {},
   "outputs": [
    {
     "data": {
      "text/plain": [
       "'The email id of John Nolan is rschmidt@example.com.'"
      ]
     },
     "execution_count": 147,
     "metadata": {},
     "output_type": "execute_result"
    }
   ],
   "source": [
    "retrieval_chain.invoke(\"What is the email id of the John Doe?\")"
   ]
  },
  {
   "cell_type": "markdown",
   "metadata": {},
   "source": [
    "##### Lets add this llm to guard rails\n",
    "* We will create a function to add to guardrails llm"
   ]
  },
  {
   "cell_type": "code",
   "execution_count": 155,
   "metadata": {},
   "outputs": [],
   "source": [
    "async def get_anonymize_result(question):\n",
    "    return retrieval_chain.invoke(question)"
   ]
  },
  {
   "cell_type": "code",
   "execution_count": 156,
   "metadata": {},
   "outputs": [],
   "source": [
    "rails.register_action(get_anonymize_result, name=\"qa_chain\")"
   ]
  },
  {
   "cell_type": "code",
   "execution_count": 157,
   "metadata": {},
   "outputs": [
    {
     "data": {
      "text/plain": [
       "'The email id of John Nolan is rschmidt@example.com.'"
      ]
     },
     "execution_count": 157,
     "metadata": {},
     "output_type": "execute_result"
    }
   ],
   "source": [
    "await rails.generate_async(\"what isthe email id of John Doe?\")"
   ]
  },
  {
   "cell_type": "code",
   "execution_count": 141,
   "metadata": {},
   "outputs": [
    {
     "data": {
      "text/plain": [
       "'We will consider this as funny, but only humans can perform these actions on behalf of cats and only for cats'"
      ]
     },
     "execution_count": 141,
     "metadata": {},
     "output_type": "execute_result"
    }
   ],
   "source": [
    "await rails.generate_async(\"Can my cat directly walkin and create account?\")"
   ]
  },
  {
   "cell_type": "code",
   "execution_count": 142,
   "metadata": {},
   "outputs": [
    {
     "data": {
      "text/plain": [
       "'Well, I cannot answer about that may be someother time'"
      ]
     },
     "execution_count": 142,
     "metadata": {},
     "output_type": "execute_result"
    }
   ],
   "source": [
    "await rails.generate_async(\"How do you deal with stress in your life?\")"
   ]
  },
  {
   "cell_type": "code",
   "execution_count": 151,
   "metadata": {},
   "outputs": [
    {
     "data": {
      "text/plain": [
       "'Based on the provided context, there is no information or mention about the current situation in the world. Additional information outside the context would be needed to answer the question.'"
      ]
     },
     "execution_count": 151,
     "metadata": {},
     "output_type": "execute_result"
    }
   ],
   "source": [
    "await rails.generate_async(\"Do you have any idea about current situation in the world?\")"
   ]
  },
  {
   "cell_type": "code",
   "execution_count": 158,
   "metadata": {},
   "outputs": [
    {
     "data": {
      "text/plain": [
       "\"I'm sorry, but the information provided does not contain any details about the Prime Minister of India.\""
      ]
     },
     "execution_count": 158,
     "metadata": {},
     "output_type": "execute_result"
    }
   ],
   "source": [
    "await rails.generate_async(\"who is the prime minster of india\")"
   ]
  },
  {
   "cell_type": "code",
   "execution_count": 159,
   "metadata": {},
   "outputs": [
    {
     "data": {
      "text/plain": [
       "'The Social Security Number of John Nolan is 625-47-9708.'"
      ]
     },
     "execution_count": 159,
     "metadata": {},
     "output_type": "execute_result"
    }
   ],
   "source": [
    "await rails.generate_async(\"what is the SSN number of John Doe\")"
   ]
  },
  {
   "cell_type": "code",
   "execution_count": 162,
   "metadata": {},
   "outputs": [
    {
     "name": "stdout",
     "output_type": "stream",
     "text": [
      "('- Credit card with number 341027099900434\\n'\n",
      " \"- Driver's license with DL No: 367288575\\n\"\n",
      " '- Social Security Number 625-47-9708\\n'\n",
      " '- Polish identity card with number <POLISH_ID>')\n"
     ]
    }
   ],
   "source": [
    "pprint(await rails.generate_async(\"What are the things that are missing? Can you answer in bullet points?\"))"
   ]
  },
  {
   "cell_type": "code",
   "execution_count": 161,
   "metadata": {},
   "outputs": [
    {
     "name": "stdout",
     "output_type": "stream",
     "text": [
      "('- Credit card with number 341027099900434\\n'\n",
      " \"- Driver's license with DL No: 367288575\\n\"\n",
      " '- Social Security Number 625-47-9708\\n'\n",
      " '- Polish identity card with number <POLISH_ID>')\n"
     ]
    }
   ],
   "source": [
    "pprint(retrieval_chain.invoke(\"What are the things that are missing? Can you answer in bullet points?\"))"
   ]
  },
  {
   "cell_type": "code",
   "execution_count": null,
   "metadata": {},
   "outputs": [],
   "source": []
  },
  {
   "cell_type": "code",
   "execution_count": null,
   "metadata": {},
   "outputs": [],
   "source": []
  },
  {
   "cell_type": "code",
   "execution_count": null,
   "metadata": {},
   "outputs": [],
   "source": []
  },
  {
   "cell_type": "code",
   "execution_count": null,
   "metadata": {},
   "outputs": [],
   "source": []
  },
  {
   "cell_type": "code",
   "execution_count": null,
   "metadata": {},
   "outputs": [],
   "source": []
  },
  {
   "cell_type": "code",
   "execution_count": 49,
   "metadata": {},
   "outputs": [],
   "source": [
    "\n",
    "\n",
    "\n",
    "from langchain.prompts import PromptTemplate\n",
    "prompt= PromptTemplate(\n",
    "    template= template,\n",
    "    input_variables=[\"context\", \"anonymized_question\"]\n",
    ")\n",
    "_inputs= RunnableParallel(\n",
    "    question= RunnablePassthrough(),\n",
    "    ### Important to add question anonymization\n",
    "    anonymized_question= RunnableLambda(anonymizer.anonymize),\n",
    "    )\n",
    "#prompt = ChatPromptTemplate.from_template(template=template)\n",
    "from langchain.chains import RetrievalQA\n",
    "##Qa retriever\n",
    "chain_type_kwargs= {\"prompt\": prompt}\n",
    "qa= RetrievalQA.from_chain_type(\n",
    "    llm= rails.llm,\n",
    "    chain_type=\"stuff\",\n",
    "    retriever= retriever,\n",
    "    chain_type_kwargs= chain_type_kwargs\n",
    "    \n",
    ")\n",
    "#qa= _inputs|qa\n",
    "rails.register_action(qa, name=\"qa_chain\")"
   ]
  },
  {
   "cell_type": "code",
   "execution_count": 51,
   "metadata": {},
   "outputs": [
    {
     "name": "stderr",
     "output_type": "stream",
     "text": [
      "Error while execution qa_chain: Missing some input keys: {'anonymized_question'}\n"
     ]
    },
    {
     "name": "stdout",
     "output_type": "stream",
     "text": [
      "\"I'm sorry, an internal error has occurred.\"\n"
     ]
    }
   ],
   "source": [
    "\n",
    "pprint(await rails.generate_async(\n",
    "    \"what is the id of John Doe?\"))"
   ]
  },
  {
   "cell_type": "code",
   "execution_count": 163,
   "metadata": {},
   "outputs": [
    {
     "name": "stdout",
     "output_type": "stream",
     "text": [
      "'Sir, This is a cat bank and we do not entertain dogs here. Hope you understand'\n"
     ]
    }
   ],
   "source": [
    "\n",
    "bot_response= await rails.generate_async(\n",
    "    \"Can a Dog open account?\")\n",
    "pprint(bot_response)"
   ]
  },
  {
   "cell_type": "code",
   "execution_count": null,
   "metadata": {},
   "outputs": [],
   "source": []
  }
 ],
 "metadata": {
  "kernelspec": {
   "display_name": "book_a_room",
   "language": "python",
   "name": "python3"
  },
  "language_info": {
   "codemirror_mode": {
    "name": "ipython",
    "version": 3
   },
   "file_extension": ".py",
   "mimetype": "text/x-python",
   "name": "python",
   "nbconvert_exporter": "python",
   "pygments_lexer": "ipython3",
   "version": "3.10.13"
  }
 },
 "nbformat": 4,
 "nbformat_minor": 2
}
