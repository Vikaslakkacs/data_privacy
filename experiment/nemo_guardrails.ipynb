{
 "cells": [
  {
   "cell_type": "code",
   "execution_count": 1,
   "metadata": {},
   "outputs": [],
   "source": [
    "import nest_asyncio\n",
    "nest_asyncio.apply()"
   ]
  },
  {
   "cell_type": "code",
   "execution_count": 2,
   "metadata": {},
   "outputs": [
    {
     "data": {
      "text/plain": [
       "True"
      ]
     },
     "execution_count": 2,
     "metadata": {},
     "output_type": "execute_result"
    }
   ],
   "source": [
    "from dotenv import load_dotenv\n",
    "load_dotenv()"
   ]
  },
  {
   "cell_type": "code",
   "execution_count": 3,
   "metadata": {},
   "outputs": [],
   "source": [
    "from pprint import pprint"
   ]
  },
  {
   "cell_type": "markdown",
   "metadata": {},
   "source": [
    "#### Defininnf colang content and yaml content\n",
    "* This can be done using files as well. First we will perform with text in cells and go forward"
   ]
  },
  {
   "cell_type": "code",
   "execution_count": 11,
   "metadata": {},
   "outputs": [],
   "source": [
    "colang_content= \"\"\"\n",
    "define user express greeting\n",
    "    \"hello\"\n",
    "    \"hi\"\n",
    "    \"yo\"\n",
    "\n",
    "define bot express greeting\n",
    "    \"Hello there!! How can i help you today buddy?\"\n",
    "\n",
    "define flow hello\n",
    "    user express greeting\n",
    "    bot express greeting\n",
    "\"\"\"\n",
    "\n",
    "yaml_content=\"\"\"\n",
    "models:\n",
    "- type: main\n",
    "  engine: openai\n",
    "  model: gpt-3.5-turbo\n",
    "\n",
    "\n",
    "\"\"\"\n",
    "\n",
    "from nemoguardrails import LLMRails, RailsConfig\n",
    "config= RailsConfig.from_content(\n",
    "    yaml_content= yaml_content,\n",
    "    colang_content=colang_content\n",
    ")"
   ]
  },
  {
   "cell_type": "code",
   "execution_count": 12,
   "metadata": {},
   "outputs": [
    {
     "name": "stderr",
     "output_type": "stream",
     "text": [
      "/Users/vikaslakka/opt/miniconda3/envs/data_privacy/lib/python3.10/site-packages/tqdm-4.66.2-py3.10.egg/tqdm/auto.py:21: TqdmWarning: IProgress not found. Please update jupyter and ipywidgets. See https://ipywidgets.readthedocs.io/en/stable/user_install.html\n",
      "  from .autonotebook import tqdm as notebook_tqdm\n",
      "Fetching 7 files: 100%|██████████| 7/7 [00:00<00:00, 63140.06it/s]\n"
     ]
    }
   ],
   "source": [
    "rails= LLMRails(config= config)"
   ]
  },
  {
   "cell_type": "markdown",
   "metadata": {},
   "source": [
    "* We can use rails.generate as well instead of rails.genrate_async() for asynchronisation"
   ]
  },
  {
   "cell_type": "code",
   "execution_count": 18,
   "metadata": {},
   "outputs": [
    {
     "name": "stdout",
     "output_type": "stream",
     "text": [
      "Hello there!! How can i help you today buddy?\n"
     ]
    },
    {
     "name": "stderr",
     "output_type": "stream",
     "text": [
      "/var/folders/0_/zf6b0hxs1qs6yddgmgn1phjm0000gn/T/ipykernel_93763/542438136.py:1: RuntimeWarning: coroutine 'LLMRails.generate_async' was never awaited\n",
      "  res= await rails.generate_async(prompt=\"Hello\")\n",
      "RuntimeWarning: Enable tracemalloc to get the object allocation traceback\n"
     ]
    }
   ],
   "source": [
    "res= await rails.generate_async(prompt=\"Hello\")\n",
    "print(res)"
   ]
  },
  {
   "cell_type": "markdown",
   "metadata": {},
   "source": [
    "* Instead of passing a prompt we can also pass a complete conversation"
   ]
  },
  {
   "cell_type": "code",
   "execution_count": 19,
   "metadata": {},
   "outputs": [
    {
     "name": "stdout",
     "output_type": "stream",
     "text": [
      "{'role': 'assistant', 'content': 'Hello there!! How can i help you today buddy?'}\n"
     ]
    }
   ],
   "source": [
    "messages= [\n",
    "    {\"role\": \"user\", \"content\": \"Hey there!\"}\n",
    "]\n",
    "res= await rails.generate_async(messages=messages)\n",
    "print(res)"
   ]
  },
  {
   "cell_type": "markdown",
   "metadata": {},
   "source": [
    "## Variables in combination with if else statements\n",
    "* We can add personal gretings as well"
   ]
  },
  {
   "cell_type": "code",
   "execution_count": 20,
   "metadata": {},
   "outputs": [],
   "source": [
    "colang_content = \"\"\"\n",
    "define user express greeting\n",
    "    \"hello\"\n",
    "    \"hi\"\n",
    "    \"yo\"\n",
    "\n",
    "define bot express greeting\n",
    "    \"Hello Boss! How can i help you today?\"\n",
    "\n",
    "define bot personal greeting\n",
    "    \"Hello $username, nice to see you again!\"\n",
    "\n",
    "define flow hello\n",
    "    user express greeting\n",
    "    \n",
    "    if $username:\n",
    "        bot personal greeting\n",
    "    else:\n",
    "        bot express greeting\n",
    "    \n",
    "\"\"\"\n",
    "\n",
    "config= RailsConfig.from_content(\n",
    "    yaml_content=yaml_content,\n",
    "    colang_content=colang_content\n",
    ")\n",
    "rails= LLMRails(config=config)"
   ]
  },
  {
   "cell_type": "code",
   "execution_count": 21,
   "metadata": {},
   "outputs": [
    {
     "name": "stdout",
     "output_type": "stream",
     "text": [
      "{'content': 'Hello Boss! How can i help you today?', 'role': 'assistant'}\n"
     ]
    }
   ],
   "source": [
    "messages=[\n",
    "    {\"role\":\"user\", \"content\":\"Hey there!\"}\n",
    "]\n",
    "res= await rails.generate_async(messages=messages)\n",
    "pprint(res)"
   ]
  },
  {
   "cell_type": "markdown",
   "metadata": {},
   "source": [
    "* Now instead of role: user we will add context and then we will add username to that"
   ]
  },
  {
   "cell_type": "code",
   "execution_count": 24,
   "metadata": {},
   "outputs": [
    {
     "name": "stdout",
     "output_type": "stream",
     "text": [
      "{'content': 'Hello Vicky, nice to see you again!', 'role': 'assistant'}\n"
     ]
    }
   ],
   "source": [
    "messages=[\n",
    "    {\"role\":\"context\", \"content\":{\"username\":\"Vicky\"}},\n",
    "    {\"role\":\"user\", \"content\":\"Hey there!\"}\n",
    "]\n",
    "res= await rails.generate_async(messages=messages)\n",
    "pprint(res)"
   ]
  },
  {
   "cell_type": "markdown",
   "metadata": {},
   "source": [
    "## Yeah!!!\n",
    "### Now lets integrate with LangChain\n",
    "* Besides normal wishing flow we are using another flow which means, if the first flow doesn't catch the user then second flow will be executed\n",
    "* We are passing latest message to qa chain. So we have new method qa_chain and we have to use it and execute a function with execute keyword"
   ]
  },
  {
   "cell_type": "code",
   "execution_count": 31,
   "metadata": {},
   "outputs": [],
   "source": [
    "colang_content=\"\"\"\n",
    "define user express greeting\n",
    "    \"hello\"\n",
    "    \"hi\"\n",
    "    \"yo\"\n",
    "\n",
    "define bot express greeting\n",
    "    \"Hello Buddy! How can i help you today?\"\n",
    "\n",
    "define bot personal greeting\n",
    "    \"Hello $username,Welcome back Sir!\"\n",
    "\n",
    "define flow hello\n",
    "    user express greeting\n",
    "    if $username\n",
    "        bot express greeting\n",
    "    else\n",
    "        bot personal greeting\n",
    "\n",
    "define flow\n",
    "    user ...\n",
    "    $answer = execute qa_chain(query=$last_user_message)\n",
    "    bot $answer\n",
    "\"\"\"\n",
    "config = RailsConfig.from_content(\n",
    "    yaml_content= yaml_content,\n",
    "    colang_content= colang_content\n",
    ")\n",
    "rails= LLMRails(config= config)"
   ]
  },
  {
   "cell_type": "markdown",
   "metadata": {},
   "source": [
    "## We will perfom this from vector database."
   ]
  },
  {
   "cell_type": "code",
   "execution_count": 35,
   "metadata": {},
   "outputs": [],
   "source": [
    "from langchain.vectorstores import Chroma\n",
    "from langchain.embeddings import OpenAIEmbeddings\n",
    "from langchain.chat_models import ChatOpenAI\n",
    "from langchain.chains import RetrievalQA\n",
    "from langchain.prompts import PromptTemplate\n",
    "\n",
    "vectorstore= Chroma.from_texts([\"CatBank's Furry Paws Credit Card offers 2% cashback on pet stores and 1% on all other purchases.\",\n",
    "                                 \"Meow Loans at CatBank come with a competitive 5% APR, subject to your catnip credit score.\",\n",
    "                                 \"Earn up to 4% interest with CatBank's Kitty Savers account, with a minimum deposit of $500.\",\n",
    "                                 \"Invest in the Whisker Growth Fund with a minimum of $1,000 and enjoy purr-tential annual returns of 7%.\",\n",
    "                                 \"Open a Feline Secure savings account with just $100; enjoy up to 3% interest with no monthly fees.\"],\n",
    "                               embedding= OpenAIEmbeddings()\n",
    "                               \n",
    "                               \n",
    "                               )\n",
    "retriever= vectorstore.as_retriever()"
   ]
  },
  {
   "cell_type": "markdown",
   "metadata": {},
   "source": [
    "### Create Prompts and retrievalQA"
   ]
  },
  {
   "cell_type": "code",
   "execution_count": 41,
   "metadata": {},
   "outputs": [],
   "source": [
    "prompt_template=\"\"\" \n",
    "You are a helpful bot for our Bank. Answer if you have got content in \"Context\".\n",
    "Otherwise tell the user in a friendly way that you do not know and can not help with that.\n",
    "\n",
    "context: {context}\n",
    "\n",
    "Question: {question}\n",
    "\n",
    "Answer here:\n",
    "\"\"\"\n",
    "\n",
    "prompt= PromptTemplate(\n",
    "    template= prompt_template,\n",
    "    input_variables=[\"context\", \"question\"]\n",
    ")\n",
    "chain_type_kwargs= {\"prompt\":prompt}\n",
    "\n",
    "##Qa retriever\n",
    "qa= RetrievalQA.from_chain_type(\n",
    "    llm= rails.llm,\n",
    "    chain_type=\"stuff\",\n",
    "    retriever= retriever,\n",
    "    chain_type_kwargs= chain_type_kwargs\n",
    "    \n",
    ")"
   ]
  },
  {
   "cell_type": "markdown",
   "metadata": {},
   "source": [
    "### You can register function to rails\n",
    "* here we are registering RetrievalQA method to the rails"
   ]
  },
  {
   "cell_type": "code",
   "execution_count": 42,
   "metadata": {},
   "outputs": [],
   "source": [
    "rails.register_action(qa, name=\"qa_chain\")"
   ]
  },
  {
   "cell_type": "code",
   "execution_count": 43,
   "metadata": {},
   "outputs": [
    {
     "name": "stdout",
     "output_type": "stream",
     "text": [
      "{'content': 'The minimum deposit amount for the Kitty Savers account is $500.',\n",
      " 'role': 'assistant'}\n"
     ]
    }
   ],
   "source": [
    "history=[ {\"role\":\"user\", \"content\":\"What is the minimum deposit amount of Kitty servers account?\"}]\n",
    "bot_message= await rails.generate_async(messages=history)\n",
    "pprint(bot_message)"
   ]
  },
  {
   "cell_type": "markdown",
   "metadata": {},
   "source": [
    "### Lets give some out of context question"
   ]
  },
  {
   "cell_type": "code",
   "execution_count": 45,
   "metadata": {},
   "outputs": [
    {
     "name": "stdout",
     "output_type": "stream",
     "text": [
      "{'content': \"I'm here to assist with banking-related questions. Unfortunately, \"\n",
      "            'I do not have any movie recommendations for you. Is there '\n",
      "            'anything else I can help with?',\n",
      " 'role': 'assistant'}\n"
     ]
    }
   ],
   "source": [
    "history=[{\"role\":\"user\",\n",
    "          \"content\":\"any movie recommendations?\"}]\n",
    "bot_message= await rails.generate_async(messages=history)\n",
    "pprint(bot_message)"
   ]
  },
  {
   "cell_type": "markdown",
   "metadata": {},
   "source": [
    "### Now lets create a guardrail for the context"
   ]
  },
  {
   "cell_type": "code",
   "execution_count": 55,
   "metadata": {},
   "outputs": [],
   "source": [
    "new_colang_content= \"\"\"\n",
    "define user express greeting\n",
    "    \"hello\"\n",
    "    \"hi\" \n",
    "    \"yo\" \n",
    "\n",
    "define bot express greeting\n",
    "    \"Hello Buddy! How can i Help you?\"\n",
    "    \"Hello Sir, How are you today? How can i help you?\"\n",
    "\n",
    "define bot personal greeting\n",
    "    \"Hello $username, Welcome Sir!\"\n",
    "    \"Yo $username, Wasup!!\"\n",
    "\n",
    "define flow hello\n",
    "    user express greeting\n",
    "    if $username\n",
    "        bot personal greeting\n",
    "    else\n",
    "        bot express greeting\n",
    "\n",
    "define user ask about dogs\n",
    "    \"Can i get loan for my dog?\"\n",
    "    \"what about dog credit cards?\"\n",
    "\n",
    "define bot no dog policy\n",
    "    \"Sir, This is a cat bank and we do not entertain dogs here. Hope you understand\"\n",
    "    \"As a matter of fact that dog eats cats, we restrict them creating any accounts for them here.\"\n",
    "\n",
    "define flow dog policy\n",
    "    user ask about dogs\n",
    "    bot no dog policy\n",
    "\n",
    "define user ask silly questions\n",
    "    \"Can a horse create account?\"\n",
    "    \"Can my cat directly walkin and create account?\"\n",
    "    \"Can a cat take pension?\"\n",
    "\n",
    "define bot respond to silly question\n",
    "    \"We will consider this as funny, but only humans can perform these actions on behalf of cats and only for cats\"\n",
    "\n",
    "define flow silly cat questions\n",
    "    user ask silly questions\n",
    "    bot respond to silly question\n",
    "\n",
    "define user express chit chat\n",
    "    \"what are your thoughts about current world situation?\"\n",
    "    \"How do you deal with stress in your life?\"\n",
    "    \"Are you in love with someone?\"\n",
    "\n",
    "define bot respond to chit chat\n",
    "    \"$username, We are here to talk about Cat banking, its better we stick to the topic and not deviate\"\n",
    "    \"Well $username, I cannot answer about that may be someother time\"\n",
    "\n",
    "define flow chit chat\n",
    "    user express chit chat\n",
    "    bot responds to chit chat\n",
    "\n",
    "define flow\n",
    "    user ...\n",
    "    $answer = execute qa_chain(query=$last_user_message)\n",
    "    bot $answer\n",
    "\"\"\""
   ]
  },
  {
   "cell_type": "code",
   "execution_count": 56,
   "metadata": {},
   "outputs": [],
   "source": [
    "config= RailsConfig.from_content(\n",
    "    yaml_content= yaml_content,\n",
    "    colang_content= new_colang_content\n",
    ")\n",
    "rails= LLMRails(config= config)\n",
    "## register retrievalQA\n",
    "rails.register_action(qa, name=\"qa_chain\")"
   ]
  },
  {
   "cell_type": "code",
   "execution_count": 61,
   "metadata": {},
   "outputs": [
    {
     "name": "stdout",
     "output_type": "stream",
     "text": [
      "{'content': 'Hello Vicky, Welcome Sir!', 'role': 'assistant'}\n"
     ]
    }
   ],
   "source": [
    "messages=[\n",
    "    {\"role\":\"context\", \"content\":{\"username\":\"Vicky\"}},\n",
    "    {\"role\":\"user\", \"content\":\"Hello\"},\n",
    "]\n",
    "res= await rails.generate_async(messages= messages)\n",
    "pprint(res)"
   ]
  },
  {
   "cell_type": "code",
   "execution_count": 69,
   "metadata": {},
   "outputs": [
    {
     "name": "stdout",
     "output_type": "stream",
     "text": [
      "{'content': 'We will consider this as funny, but only humans can perform these '\n",
      "            'actions on behalf of cats and only for cats',\n",
      " 'role': 'assistant'}\n"
     ]
    }
   ],
   "source": [
    "messages=[\n",
    "    {\"role\":\"user\", \"content\":\"Can a pig create account?\"},\n",
    "]\n",
    "res= await rails.generate_async(messages= messages)\n",
    "pprint(res)"
   ]
  },
  {
   "cell_type": "code",
   "execution_count": 70,
   "metadata": {},
   "outputs": [
    {
     "name": "stdout",
     "output_type": "stream",
     "text": [
      "{'content': \"I'm sorry, I cannot help with that question as it is not related \"\n",
      "            'to the information provided about Feline Secure savings account '\n",
      "            \"and CatBank's Kitty Savers account. If you have any other \"\n",
      "            'questions about those accounts, feel free to ask!',\n",
      " 'role': 'assistant'}\n"
     ]
    }
   ],
   "source": [
    "messages=[\n",
    "    {\"role\":\"user\", \"content\":\"Is it possible to create an account for a horse?\"},\n",
    "]\n",
    "res= await rails.generate_async(messages= messages)\n",
    "pprint(res)"
   ]
  },
  {
   "cell_type": "code",
   "execution_count": null,
   "metadata": {},
   "outputs": [],
   "source": []
  }
 ],
 "metadata": {
  "kernelspec": {
   "display_name": "data_privacy",
   "language": "python",
   "name": "python3"
  },
  "language_info": {
   "codemirror_mode": {
    "name": "ipython",
    "version": 3
   },
   "file_extension": ".py",
   "mimetype": "text/x-python",
   "name": "python",
   "nbconvert_exporter": "python",
   "pygments_lexer": "ipython3",
   "version": "3.10.13"
  }
 },
 "nbformat": 4,
 "nbformat_minor": 2
}
